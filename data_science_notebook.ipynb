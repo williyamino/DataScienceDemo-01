{
  "nbformat": 4,
  "nbformat_minor": 0,
  "metadata": {
    "colab": {
      "provenance": [],
      "toc_visible": true,
      "authorship_tag": "ABX9TyP50NdFOd8fxH9Q4jOnmPUX",
      "include_colab_link": true
    },
    "kernelspec": {
      "name": "python3",
      "display_name": "Python 3"
    },
    "language_info": {
      "name": "python"
    }
  },
  "cells": [
    {
      "cell_type": "markdown",
      "metadata": {
        "id": "view-in-github",
        "colab_type": "text"
      },
      "source": [
        "<a href=\"https://colab.research.google.com/github/williyamino/DataScienceDemo-01/blob/main/data_science_notebook.ipynb\" target=\"_parent\"><img src=\"https://colab.research.google.com/assets/colab-badge.svg\" alt=\"Open In Colab\"/></a>"
      ]
    },
    {
      "cell_type": "markdown",
      "source": [
        "## Ingest\n",
        "\n"
      ],
      "metadata": {
        "id": "zDONbQQFEMAo"
      }
    },
    {
      "cell_type": "code",
      "source": [],
      "metadata": {
        "id": "FL6jMBrCEn1A"
      },
      "execution_count": null,
      "outputs": []
    },
    {
      "cell_type": "markdown",
      "source": [
        "## EDA\n"
      ],
      "metadata": {
        "id": "t36zV0ovEVKE"
      }
    },
    {
      "cell_type": "code",
      "source": [],
      "metadata": {
        "id": "7iryCw01EXmy"
      },
      "execution_count": null,
      "outputs": []
    },
    {
      "cell_type": "markdown",
      "source": [
        "## Modeling"
      ],
      "metadata": {
        "id": "R1BHbUoaEfM4"
      }
    },
    {
      "cell_type": "markdown",
      "source": [
        "### Classification Algorithm A\n"
      ],
      "metadata": {
        "id": "6hWWS_LYFRxw"
      }
    },
    {
      "cell_type": "code",
      "source": [],
      "metadata": {
        "id": "MuTUxG3-Ez77"
      },
      "execution_count": null,
      "outputs": []
    },
    {
      "cell_type": "markdown",
      "source": [
        "## Conclusion"
      ],
      "metadata": {
        "id": "06EWMhTYEu_J"
      }
    },
    {
      "cell_type": "code",
      "source": [],
      "metadata": {
        "id": "ANQa8viqEx6z"
      },
      "execution_count": null,
      "outputs": []
    }
  ]
}